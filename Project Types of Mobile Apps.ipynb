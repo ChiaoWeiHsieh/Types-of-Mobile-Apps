{
 "cells": [
  {
   "cell_type": "markdown",
   "metadata": {},
   "source": [
    "# Project Types of Mobile Applications\n",
    "\n",
    "## Table of Contents\n",
    "### &ensp;&ensp; 1. [Opening and Exploring the Dataset](#1.)\n",
    "### &ensp;&ensp; 2. [Cleaning the Dataset](#2.)\n",
    "### &ensp;&ensp; 3. [Analysing the Dataset](#3.)\n",
    "### &ensp;&ensp; 4. [Conclusion](#4.)"
   ]
  },
  {
   "cell_type": "markdown",
   "metadata": {},
   "source": [
    "## Abstract\n",
    "\n",
    "- This project aims to analyse two datasets of mobile app derived from [an iOS dataset](https://www.kaggle.com/datasets/ramamet4/app-store-apple-data-set-10k-apps) and [an Android dataset](https://www.kaggle.com/datasets/lava18/google-play-store-apps) with a goal to provide`the app development team`with a report on`what type of apps that are likely to attract more users`on Google Play and App Store for them to build`an app in English that are free to download and install`.\n",
    "\n",
    "- Note that this project provides me with opportunities for practising the basic skills such as\n",
    "    1. Write functions and use the functions with positional arguments and keyword arguments.\n",
    "    2. Use for loop and nested for loop with lists.\n",
    "    3. Use the sorted(iterable_object, key, reverse=False) function to sort the order in a list.    \n",
    "    4. Use dictionary to make frequency tables."
   ]
  },
  {
   "cell_type": "markdown",
   "metadata": {},
   "source": [
    "##  1. Opening and Exploring the Dataset\n",
    "\n",
    "In this section, both two datasets will be opened and read into a list of lists for preliminary exploration.\n",
    "- [The iOS dataset](https://www.kaggle.com/datasets/ramamet4/app-store-apple-data-set-10k-apps) contains data about approximately 7,000 iOS apps from the App Store. The dataset can be downloaded from this [link](https://dq-content.s3.amazonaws.com/350/googleplaystore.csv) .\n",
    "- [The Android dataset](https://www.kaggle.com/datasets/lava18/google-play-store-apps) contains data about approximately 10,000 Android apps from Google Play. The dataset can be downloaded from this [link](https://dq-content.s3.amazonaws.com/350/AppleStore.csv)."
   ]
  },
  {
   "cell_type": "code",
   "execution_count": 1,
   "metadata": {},
   "outputs": [],
   "source": [
    "# Create a function to read a .csv file into a list of lists\n",
    "def read_dataset(csv_file, header=True):\n",
    "    opened_file = open(csv_file, encoding='utf8')\n",
    "    from csv import reader\n",
    "    dataset = list(reader(opened_file))\n",
    "    if header:\n",
    "        dataset_header = dataset[0]\n",
    "        dataset_rows = dataset[1:]\n",
    "        return dataset_header, dataset_rows\n",
    "    else:\n",
    "        return dataset"
   ]
  },
  {
   "cell_type": "code",
   "execution_count": 2,
   "metadata": {},
   "outputs": [],
   "source": [
    "# Create a reusable function that prints rows in a readable way\n",
    "def explore_data(dataset, start_row, end_row, rows_and_columns=False):\n",
    "    dataset_sliced = dataset[start_row:end_row]\n",
    "    for row in dataset_sliced:\n",
    "        print(row)\n",
    "        print('\\n')\n",
    "    if rows_and_columns:\n",
    "        print('Number of rows:', len(dataset))\n",
    "        print('Number of columns:', len(dataset[0]))"
   ]
  },
  {
   "cell_type": "markdown",
   "metadata": {},
   "source": [
    "### Part One: Open and Explore the iOS dataset"
   ]
  },
  {
   "cell_type": "code",
   "execution_count": 3,
   "metadata": {},
   "outputs": [
    {
     "name": "stdout",
     "output_type": "stream",
     "text": [
      "First 5 rows of iOS dataset:\n",
      "\n",
      "['284882215', 'Facebook', '389879808', 'USD', '0.0', '2974676', '212', '3.5', '3.5', '95.0', '4+', 'Social Networking', '37', '1', '29', '1']\n",
      "\n",
      "\n",
      "['389801252', 'Instagram', '113954816', 'USD', '0.0', '2161558', '1289', '4.5', '4.0', '10.23', '12+', 'Photo & Video', '37', '0', '29', '1']\n",
      "\n",
      "\n",
      "['529479190', 'Clash of Clans', '116476928', 'USD', '0.0', '2130805', '579', '4.5', '4.5', '9.24.12', '9+', 'Games', '38', '5', '18', '1']\n",
      "\n",
      "\n",
      "['420009108', 'Temple Run', '65921024', 'USD', '0.0', '1724546', '3842', '4.5', '4.0', '1.6.2', '9+', 'Games', '40', '5', '1', '1']\n",
      "\n",
      "\n",
      "['284035177', 'Pandora - Music & Radio', '130242560', 'USD', '0.0', '1126879', '3594', '4.0', '4.5', '8.4.1', '12+', 'Music', '37', '4', '1', '1']\n",
      "\n",
      "\n",
      "Number of rows: 7197\n",
      "Number of columns: 16\n",
      "Column names:\n",
      " ['id', 'track_name', 'size_bytes', 'currency', 'price', 'rating_count_tot', 'rating_count_ver', 'user_rating', 'user_rating_ver', 'ver', 'cont_rating', 'prime_genre', 'sup_devices.num', 'ipadSc_urls.num', 'lang.num', 'vpp_lic']\n"
     ]
    }
   ],
   "source": [
    "ios_header, ios_dataset = read_dataset('AppleStore.csv')\n",
    "print('First 5 rows of iOS dataset:\\n')\n",
    "explore_data(ios_dataset, 0, 5, rows_and_columns=True)\n",
    "print('Column names:\\n', ios_header)"
   ]
  },
  {
   "cell_type": "markdown",
   "metadata": {},
   "source": [
    "Based on the above information, we have got 7,197 iOS apps and 16 columns in the dataset, and the below 6 columns will be selected for the purpose of analysis:\n",
    "\n",
    "|No.|Column Name|Description|\n",
    "|:-----|:-----|:-----|\n",
    "|1|track_name|Application Name|\n",
    "|2|currency|Currency Type|\n",
    "|3|price|Price amount|\n",
    "|4|ratingcounttot|User Rating counts (for all version)|\n",
    "|5|ratingcountver|User Rating counts (for current version)|\n",
    "|6|prime_genre|Primary Genre|\n"
   ]
  },
  {
   "cell_type": "markdown",
   "metadata": {},
   "source": [
    "### Part Two: Open and Explore the Android dataset"
   ]
  },
  {
   "cell_type": "code",
   "execution_count": 4,
   "metadata": {},
   "outputs": [
    {
     "name": "stdout",
     "output_type": "stream",
     "text": [
      "First 5 rows of Android dataset:\n",
      "\n",
      "['Photo Editor & Candy Camera & Grid & ScrapBook', 'ART_AND_DESIGN', '4.1', '159', '19M', '10,000+', 'Free', '0', 'Everyone', 'Art & Design', 'January 7, 2018', '1.0.0', '4.0.3 and up']\n",
      "\n",
      "\n",
      "['Coloring book moana', 'ART_AND_DESIGN', '3.9', '967', '14M', '500,000+', 'Free', '0', 'Everyone', 'Art & Design;Pretend Play', 'January 15, 2018', '2.0.0', '4.0.3 and up']\n",
      "\n",
      "\n",
      "['U Launcher Lite – FREE Live Cool Themes, Hide Apps', 'ART_AND_DESIGN', '4.7', '87510', '8.7M', '5,000,000+', 'Free', '0', 'Everyone', 'Art & Design', 'August 1, 2018', '1.2.4', '4.0.3 and up']\n",
      "\n",
      "\n",
      "['Sketch - Draw & Paint', 'ART_AND_DESIGN', '4.5', '215644', '25M', '50,000,000+', 'Free', '0', 'Teen', 'Art & Design', 'June 8, 2018', 'Varies with device', '4.2 and up']\n",
      "\n",
      "\n",
      "['Pixel Draw - Number Art Coloring Book', 'ART_AND_DESIGN', '4.3', '967', '2.8M', '100,000+', 'Free', '0', 'Everyone', 'Art & Design;Creativity', 'June 20, 2018', '1.1', '4.4 and up']\n",
      "\n",
      "\n",
      "Number of rows: 10841\n",
      "Number of columns: 13\n",
      "Column names:\n",
      " ['App', 'Category', 'Rating', 'Reviews', 'Size', 'Installs', 'Type', 'Price', 'Content Rating', 'Genres', 'Last Updated', 'Current Ver', 'Android Ver']\n"
     ]
    }
   ],
   "source": [
    "android_header, android_dataset = read_dataset('googleplaystore.csv')\n",
    "print('First 5 rows of Android dataset:\\n')\n",
    "explore_data(android_dataset, 0, 5, rows_and_columns=True)\n",
    "print('Column names:\\n', android_header)"
   ]
  },
  {
   "cell_type": "markdown",
   "metadata": {},
   "source": [
    "Based on the above information, we have got 10,841 Android apps and 13 columns in the dataset, and the below 7 columns will be chosen for the purpose of analysis:\n",
    "\n",
    "|No.|Column Name|Description|\n",
    "|:-----|:-----|:-----|\n",
    "|1|App|Application Name|\n",
    "|2|Category|Application Category|\n",
    "|3|Review|The Number of Reviews|\n",
    "|4|Installs|The Number of Times the App has been Installed|\n",
    "|5|Type|Whether the App is Free or Paid|\n",
    "|6|Price|Price amount|\n",
    "|7|prime_genre|Primary Genre|\n"
   ]
  },
  {
   "cell_type": "markdown",
   "metadata": {},
   "source": [
    "## 2. Cleaning the Dataset\n",
    "In this section, the dataset will be manipulated in prior to data analysis to ensure it is clean and accurate.\n",
    "\n",
    "### The Flow of Data Cleaning includes:\n",
    "1. Remove Rows with Missing Column.\n",
    "2. Remove Duplicate Rows.\n",
    "3. Remove Non-English Apps.\n",
    "4. Identify Free Apps."
   ]
  },
  {
   "cell_type": "markdown",
   "metadata": {},
   "source": [
    "### 2.1. Remove Rows with Missing Column\n",
    "A function`missing_column()`will be created to check whether there are rows with missing columns in a dataset.  \n",
    "- If the dataset contains rows with missing column, the function report \n",
    "    - The length of the row.\n",
    "    - The index of the row.\n",
    "    - How many rows contain missing columns."
   ]
  },
  {
   "cell_type": "code",
   "execution_count": 5,
   "metadata": {},
   "outputs": [],
   "source": [
    "# Create a function that checks whether there are rows with missing columns.\n",
    "def missing_column(dataset, header):\n",
    "    row_count = 0\n",
    "    for row in dataset:\n",
    "        if len(row) != len(header):\n",
    "            row_count += 1\n",
    "            print(row)\n",
    "            print('\\n')\n",
    "            print('The length of the row is:', len(row))\n",
    "            print('The index of the row is:', dataset.index(row))\n",
    "    print(row_count, 'row(s) containing missing column has(have) been found.' )"
   ]
  },
  {
   "cell_type": "markdown",
   "metadata": {},
   "source": [
    "### 2.1.1. Part One: Examine the iOS dataset"
   ]
  },
  {
   "cell_type": "code",
   "execution_count": 6,
   "metadata": {
    "scrolled": true
   },
   "outputs": [
    {
     "name": "stdout",
     "output_type": "stream",
     "text": [
      "0 row(s) containing missing column has(have) been found.\n"
     ]
    }
   ],
   "source": [
    "missing_column(ios_dataset, ios_header)"
   ]
  },
  {
   "cell_type": "markdown",
   "metadata": {},
   "source": [
    "The result shows that there is no missing column for the iOS dataset.  \n",
    "  \n",
    "### 2.1.2. Part Two: Examine the Android dataset"
   ]
  },
  {
   "cell_type": "code",
   "execution_count": 7,
   "metadata": {
    "scrolled": true
   },
   "outputs": [
    {
     "name": "stdout",
     "output_type": "stream",
     "text": [
      "['Life Made WI-Fi Touchscreen Photo Frame', '1.9', '19', '3.0M', '1,000+', 'Free', '0', 'Everyone', '', 'February 11, 2018', '1.0.19', '4.0 and up']\n",
      "\n",
      "\n",
      "The length of the row is: 12\n",
      "The index of the row is: 10472\n",
      "1 row(s) containing missing column has(have) been found.\n"
     ]
    }
   ],
   "source": [
    "missing_column(android_dataset, android_header)"
   ]
  },
  {
   "cell_type": "code",
   "execution_count": 8,
   "metadata": {},
   "outputs": [
    {
     "name": "stdout",
     "output_type": "stream",
     "text": [
      "The number of rows in the Android dataset is: 10840\n"
     ]
    }
   ],
   "source": [
    "# Remove the row with index 10472\n",
    "del android_dataset[10472]\n",
    "print('The number of rows in the Android dataset is:', len(android_dataset))"
   ]
  },
  {
   "cell_type": "code",
   "execution_count": 9,
   "metadata": {},
   "outputs": [
    {
     "name": "stdout",
     "output_type": "stream",
     "text": [
      "0 row(s) containing missing column has(have) been found.\n"
     ]
    }
   ],
   "source": [
    "# Double check whether the missing row has been removed.\n",
    "missing_column(android_dataset, android_header)"
   ]
  },
  {
   "cell_type": "markdown",
   "metadata": {},
   "source": [
    "### 2.1.3. Summary\n",
    "- For the iOS dataset, there is no row with missing column. The dataset consists of 7197 rows now.\n",
    "- For the Android dataset, 1 row with a missing column has been found and removed from the dataset. The dataset contains 10840 rows now."
   ]
  },
  {
   "cell_type": "markdown",
   "metadata": {},
   "source": [
    "### 2.2. Remove Duplicate Rows\n",
    "A function`duplicate_row`will be created to check duplicate rows in a dataset, which returns information as follows\n",
    "- Number of unique apps.\n",
    "- Number of duplicate apps.\n",
    "- Number of duplicate rows.\n",
    "- Ten Key-Value examples of duplicated apps with app's name and its duplicate count."
   ]
  },
  {
   "cell_type": "code",
   "execution_count": 10,
   "metadata": {},
   "outputs": [],
   "source": [
    "def duplicate_row(dataset, index_to_check):\n",
    "    duplicate_apps_list = []\n",
    "    unique_apps_list = []\n",
    "    duplicate_apps_dict = {}\n",
    "    for row in dataset:\n",
    "        app_name = row[index_to_check]\n",
    "        if app_name in duplicate_apps_dict:\n",
    "            duplicate_apps_dict[app_name] += 1\n",
    "            duplicate_apps_list.append(app_name)\n",
    "        else:\n",
    "            duplicate_apps_dict[app_name] = 0\n",
    "            unique_apps_list.append(app_name)\n",
    "    \n",
    "    # For below the for loop, the list returned by dict.items() will be sorted in descending order based on the parameter key that takes in the value.\n",
    "    new_dict = {}\n",
    "    for item in sorted(duplicate_apps_dict.items(), key=lambda x: x[1], reverse=True):\n",
    "        if item[1] > 0:\n",
    "            new_dict[item[0]] = item[1]\n",
    "    \n",
    "    print('Number of unique apps:', len(unique_apps_list))\n",
    "    print('Number of duplicate apps:', len(new_dict))\n",
    "    print('Number of duplicate rows:', len(duplicate_apps_list))\n",
    "    print('Examples of duplicated apps with Name and its Duplicate Count:\\n', dict(list(new_dict.items())[:10]))"
   ]
  },
  {
   "cell_type": "markdown",
   "metadata": {},
   "source": [
    "### 2.2.1. Part One: Investigate the iOS dataset"
   ]
  },
  {
   "cell_type": "code",
   "execution_count": 11,
   "metadata": {
    "scrolled": false
   },
   "outputs": [
    {
     "name": "stdout",
     "output_type": "stream",
     "text": [
      "For the iOS dataset:\n",
      "Number of unique apps: 7195\n",
      "Number of duplicate apps: 2\n",
      "Number of duplicate rows: 2\n",
      "Examples of duplicated apps with Name and its Duplicate Count:\n",
      " {'Mannequin Challenge': 1, 'VR Roller Coaster': 1}\n"
     ]
    }
   ],
   "source": [
    "print('For the iOS dataset:')\n",
    "duplicate_row(ios_dataset, 1)"
   ]
  },
  {
   "cell_type": "code",
   "execution_count": 12,
   "metadata": {
    "scrolled": true
   },
   "outputs": [
    {
     "name": "stdout",
     "output_type": "stream",
     "text": [
      "['id', 'track_name', 'size_bytes', 'currency', 'price', 'rating_count_tot', 'rating_count_ver', 'user_rating', 'user_rating_ver', 'ver', 'cont_rating', 'prime_genre', 'sup_devices.num', 'ipadSc_urls.num', 'lang.num', 'vpp_lic']\n",
      "\n",
      "\n",
      "['1173990889', 'Mannequin Challenge', '109705216', 'USD', '0.0', '668', '87', '3.0', '3.0', '1.4', '9+', 'Games', '37', '4', '1', '1']\n",
      "['952877179', 'VR Roller Coaster', '169523200', 'USD', '0.0', '107', '102', '3.5', '3.5', '2.0.0', '4+', 'Games', '37', '5', '1', '1']\n",
      "['1178454060', 'Mannequin Challenge', '59572224', 'USD', '0.0', '105', '58', '4.0', '4.5', '1.0.1', '4+', 'Games', '38', '5', '1', '1']\n",
      "['1089824278', 'VR Roller Coaster', '240964608', 'USD', '0.0', '67', '44', '3.5', '4.0', '0.81', '4+', 'Games', '38', '0', '1', '1']\n"
     ]
    }
   ],
   "source": [
    "print(ios_header)\n",
    "print('\\n')\n",
    "for row in ios_dataset:\n",
    "    if row[1] == 'Mannequin Challenge' or row[1] == 'VR Roller Coaster':\n",
    "        print(row)"
   ]
  },
  {
   "cell_type": "markdown",
   "metadata": {},
   "source": [
    "### Based on the above information:\n",
    "- The iOS dataset has got`2 duplicate rows with 2 duplicate apps`.\n",
    "- By looking into each duplicate rows, it turned out that the duplicates are due to various versions with different rating counts.\n",
    "- Here I decided to add an additional rule for dealing with duplicate apps:\n",
    "    -`Keep the row with the highest count of rating`\n",
    "- A function`duplicate_removal()`will be created to remove the duplicate rows from the dataset.\n",
    "    - The function returns a clean dataset:\n",
    "        - For duplicate apps, only one row with the highest count of rating is kept."
   ]
  },
  {
   "cell_type": "code",
   "execution_count": 13,
   "metadata": {},
   "outputs": [],
   "source": [
    "def duplicate_removal(dataset, index_name, index_rating):\n",
    "    # Create a dict that holds only the highest numeric value for each app\n",
    "    apps_highest_rating_dict = {}\n",
    "    for row in dataset:\n",
    "        app_name = row[index_name]\n",
    "        app_rating = float(row[index_rating])\n",
    "        if app_name in apps_highest_rating_dict:\n",
    "            if app_rating > apps_highest_rating_dict[app_name]:\n",
    "                apps_highest_rating_dict[app_name] = app_rating\n",
    "        else:\n",
    "            apps_highest_rating_dict[app_name] = app_rating\n",
    "    # Create a list to hold an unique row for each app\n",
    "    new_dataset = []\n",
    "    app_already_added = [] # To avoid rows that have the same numeric values being added to the new_dataset.\n",
    "    for row in dataset:\n",
    "        app_name = row[index_name]\n",
    "        app_rating = float(row[index_rating])\n",
    "        # Check whether the value of app_rating is the highest as the one held in the dict\n",
    "        if (app_rating == apps_highest_rating_dict[app_name]) and (app_name not in app_already_added):\n",
    "            new_dataset.append(row)\n",
    "            app_already_added.append(app_name)\n",
    "    return new_dataset"
   ]
  },
  {
   "cell_type": "code",
   "execution_count": 14,
   "metadata": {},
   "outputs": [
    {
     "name": "stdout",
     "output_type": "stream",
     "text": [
      "Number of rows in the iOS dataset without duplicate rows: 7195\n",
      "\n",
      "\n",
      "Number of unique apps: 7195\n",
      "Number of duplicate apps: 0\n",
      "Number of duplicate rows: 0\n",
      "Examples of duplicated apps with Name and its Duplicate Count:\n",
      " {}\n"
     ]
    }
   ],
   "source": [
    "ios_dataset_clean = duplicate_removal(ios_dataset, index_name=1, index_rating=5)\n",
    "print('Number of rows in the iOS dataset without duplicate rows:', len(ios_dataset_clean))\n",
    "print('\\n')\n",
    "# Double check whether the duplicate rows have been removed.\n",
    "duplicate_row(ios_dataset_clean, 1)"
   ]
  },
  {
   "cell_type": "markdown",
   "metadata": {},
   "source": [
    "### 2.2.2. Part Two: Investigate the Android dataset"
   ]
  },
  {
   "cell_type": "code",
   "execution_count": 15,
   "metadata": {},
   "outputs": [
    {
     "name": "stdout",
     "output_type": "stream",
     "text": [
      "For the Android dataset:\n",
      "Number of unique apps: 9659\n",
      "Number of duplicate apps: 798\n",
      "Number of duplicate rows: 1181\n",
      "Examples of duplicated apps with Name and its Duplicate Count:\n",
      " {'ROBLOX': 8, 'CBS Sports App - Scores, News, Stats & Watch Live': 7, 'Duolingo: Learn Languages Free': 6, 'Candy Crush Saga': 6, '8 Ball Pool': 6, 'ESPN': 6, 'Nick': 5, 'Subway Surfers': 5, 'Bubble Shooter': 5, 'slither.io': 5}\n"
     ]
    }
   ],
   "source": [
    "print('For the Android dataset:')\n",
    "duplicate_row(android_dataset, 0)"
   ]
  },
  {
   "cell_type": "code",
   "execution_count": 16,
   "metadata": {},
   "outputs": [
    {
     "name": "stdout",
     "output_type": "stream",
     "text": [
      "['App', 'Category', 'Rating', 'Reviews', 'Size', 'Installs', 'Type', 'Price', 'Content Rating', 'Genres', 'Last Updated', 'Current Ver', 'Android Ver']\n",
      "\n",
      "\n",
      "['slither.io', 'GAME', '4.4', '5234162', 'Varies with device', '100,000,000+', 'Free', '0', 'Everyone', 'Action', 'November 14, 2017', 'Varies with device', '2.3 and up']\n",
      "['slither.io', 'GAME', '4.4', '5234825', 'Varies with device', '100,000,000+', 'Free', '0', 'Everyone', 'Action', 'November 14, 2017', 'Varies with device', '2.3 and up']\n",
      "['slither.io', 'GAME', '4.4', '5234810', 'Varies with device', '100,000,000+', 'Free', '0', 'Everyone', 'Action', 'November 14, 2017', 'Varies with device', '2.3 and up']\n",
      "['slither.io', 'GAME', '4.4', '5235294', 'Varies with device', '100,000,000+', 'Free', '0', 'Everyone', 'Action', 'November 14, 2017', 'Varies with device', '2.3 and up']\n",
      "['slither.io', 'GAME', '4.4', '5235294', 'Varies with device', '100,000,000+', 'Free', '0', 'Everyone', 'Action', 'November 14, 2017', 'Varies with device', '2.3 and up']\n",
      "['slither.io', 'GAME', '4.4', '5231553', 'Varies with device', '100,000,000+', 'Free', '0', 'Everyone', 'Action', 'November 14, 2017', 'Varies with device', '2.3 and up']\n"
     ]
    }
   ],
   "source": [
    "print(android_header)\n",
    "print('\\n')\n",
    "for row in android_dataset:\n",
    "    if row[0] == 'slither.io':\n",
    "        print(row)"
   ]
  },
  {
   "cell_type": "markdown",
   "metadata": {},
   "source": [
    "### Based on the above information:\n",
    "- The Android dataset has got`1181 duplicate rows with 798 duplicate apps`.\n",
    "- Similar to the iOS dataset, duplicates are due to various versions with different review counts.\n",
    "- The same logic will be applied for dealing with duplicate apps:\n",
    "    - Use the function`duplicate_removal()`to obtain a dataset without duplicate rows.\n",
    "    - `Keep the row with the highest count of review`."
   ]
  },
  {
   "cell_type": "code",
   "execution_count": 17,
   "metadata": {},
   "outputs": [
    {
     "name": "stdout",
     "output_type": "stream",
     "text": [
      "Number of rows in the Android dataset without duplicate rows: 9659\n",
      "\n",
      "\n",
      "Number of unique apps: 9659\n",
      "Number of duplicate apps: 0\n",
      "Number of duplicate rows: 0\n",
      "Examples of duplicated apps with Name and its Duplicate Count:\n",
      " {}\n"
     ]
    }
   ],
   "source": [
    "android_dataset_clean = duplicate_removal(android_dataset, index_name=0, index_rating=3)\n",
    "print('Number of rows in the Android dataset without duplicate rows:', len(android_dataset_clean))\n",
    "print('\\n')\n",
    "# Double check whether the duplicate rows have been removed.\n",
    "duplicate_row(android_dataset_clean, 0)"
   ]
  },
  {
   "cell_type": "markdown",
   "metadata": {},
   "source": [
    "### 2.2. Summary\n",
    "- For the iOS dataset, 2 duplicate rows have been removed and only rows with the highest rating count are kept.\n",
    "  - There are now 7195 rows in the iOS dataset.\n",
    "- For the Android dataset, 1181 duplicate rows have been deleted and only rows with the highest review count are kept.\n",
    "  - There are now 9659 rows in the Android dataset."
   ]
  },
  {
   "cell_type": "markdown",
   "metadata": {},
   "source": [
    "### 2.3. Remove Non-English Apps\n",
    "Since the app the development team aims to design is for English-speaker, in this step, we are going to manipulate the dataset by removing rows where`the column of App Name contains more than 3 non-English characters`. Note that this method will eliminate most but not all of the non-English apps.\n",
    "\n",
    "Each of character that is commonly used in an English text can be converted into a number in the`range from 0 to 127`according to [ASCII](https://www.techonthenet.com/ascii/chart.php).\n",
    "\n",
    "Based on this number range:\n",
    "- A function`non_english()`will be created to check whether the App Name is non-English.\n",
    "- A function`is_english()`will be built to remove all of the non-English Apps from the dataset."
   ]
  },
  {
   "cell_type": "code",
   "execution_count": 18,
   "metadata": {},
   "outputs": [],
   "source": [
    "def non_english(dataset, index_name):\n",
    "    non_english_app = []\n",
    "    for row in dataset:\n",
    "        apps_name = row[index_name]\n",
    "        non_ASCII_count = 0 # Set this varaiable to screen English Apps\n",
    "        for l in apps_name:\n",
    "            number = ord(l)\n",
    "            if number > 127:\n",
    "                non_ASCII_count += 1\n",
    "        # This allows English Apps to contain upto 3 non-ASCII characters such as emoji, '-'\n",
    "        if non_ASCII_count > 3:\n",
    "            non_english_app.append(apps_name)\n",
    "    print(len(non_english_app),'non-English apps have been found.')\n",
    "    print('Examples of non-English Apps:\\n', non_english_app[:15])"
   ]
  },
  {
   "cell_type": "code",
   "execution_count": 19,
   "metadata": {},
   "outputs": [],
   "source": [
    "def is_english(dataset, index_name):\n",
    "    is_english_app = []\n",
    "    for row in dataset:\n",
    "        apps_name = row[index_name]\n",
    "        non_ASCII_count = 0 # Set this varaiable to screen English Apps\n",
    "        for l in apps_name:\n",
    "            number = ord(l)\n",
    "            if number > 127:\n",
    "                non_ASCII_count += 1\n",
    "        # This allows English Apps to contain upto 3 non-ASCII characters\n",
    "        if non_ASCII_count <= 3:\n",
    "            is_english_app.append(row)\n",
    "    print('Number of English apps:', len(is_english_app))\n",
    "    return is_english_app"
   ]
  },
  {
   "cell_type": "markdown",
   "metadata": {},
   "source": [
    "### 2.3.1. Part One: Check the iOS dataset"
   ]
  },
  {
   "cell_type": "code",
   "execution_count": 20,
   "metadata": {},
   "outputs": [
    {
     "name": "stdout",
     "output_type": "stream",
     "text": [
      "1014 non-English apps have been found.\n",
      "Examples of non-English Apps:\n",
      " ['爱奇艺PPS -《欢乐颂2》电视剧热播', '聚力视频HD-人民的名义,跨界歌王全网热播', '优酷视频', '网易新闻 - 精选好内容，算出你的兴趣', '淘宝 - 随时随地，想淘就淘', '搜狐视频HD-欢乐颂2 全网首播', '阴阳师-全区互通现世集结', '百度贴吧-全球最大兴趣交友社区', '百度网盘', '爱奇艺HD -《欢乐颂2》电视剧热播', '乐视视频HD-白鹿原,欢乐颂,奔跑吧全网热播', '万年历-值得信赖的日历黄历查询工具', '新浪新闻-阅读最新时事热门头条资讯视频', '喜马拉雅FM（听书社区）电台有声小说相声英语', '央视影音-海量央视内容高清直播']\n"
     ]
    }
   ],
   "source": [
    "non_english(ios_dataset_clean, 1)"
   ]
  },
  {
   "cell_type": "code",
   "execution_count": 21,
   "metadata": {
    "scrolled": true
   },
   "outputs": [
    {
     "name": "stdout",
     "output_type": "stream",
     "text": [
      "Number of English apps: 6181\n"
     ]
    }
   ],
   "source": [
    "ios_dataset_Eng = is_english(ios_dataset_clean, 1)"
   ]
  },
  {
   "cell_type": "markdown",
   "metadata": {},
   "source": [
    "### 2.3.2. Part Two: Check the Android dataset"
   ]
  },
  {
   "cell_type": "code",
   "execution_count": 22,
   "metadata": {},
   "outputs": [
    {
     "name": "stdout",
     "output_type": "stream",
     "text": [
      "45 non-English apps have been found.\n",
      "Examples of non-English Apps:\n",
      " ['Flame - درب عقلك يوميا', 'သိင်္ Astrology - Min Thein Kha BayDin', 'РИА Новости', 'صور حرف H', 'L.POINT - 엘포인트 [ 포인트, 멤버십, 적립, 사용, 모바일 카드, 쿠폰, 롯데]', 'RMEduS - 음성인식을 활용한 R 프로그래밍 실습 시스템', 'AJ렌터카 법인 카셰어링', 'Al Quran Free - القرآن (Islam)', '中国語 AQリスニング', '日本AV历史', 'Ay Yıldız Duvar Kağıtları', 'বাংলা টিভি প্রো BD Bangla TV', 'Cъновник BG', 'CSCS BG (в български)', '뽕티비 - 개인방송, 인터넷방송, BJ방송']\n"
     ]
    }
   ],
   "source": [
    "non_english(android_dataset_clean, 0)"
   ]
  },
  {
   "cell_type": "code",
   "execution_count": 23,
   "metadata": {},
   "outputs": [
    {
     "name": "stdout",
     "output_type": "stream",
     "text": [
      "Number of English apps: 9614\n"
     ]
    }
   ],
   "source": [
    "android_dataset_Eng = is_english(android_dataset_clean, 0)"
   ]
  },
  {
   "cell_type": "markdown",
   "metadata": {},
   "source": [
    "### 2.3. Summary\n",
    "- The iOS dataset now contains 6181 rows after removing 1014 non-English apps from the dataset.\n",
    "- The Android dataset now contains 9614 rows after removing 45 non-English apps from the dataset."
   ]
  },
  {
   "cell_type": "markdown",
   "metadata": {},
   "source": [
    "### 2.4. Identify Free Apps\n",
    "The last step of data cleaning is to keep only the free apps in the dataset\n",
    "- The paid apps will be removed from each dataset.\n",
    "\n",
    "A function`free_or_paid`will be create, which reports the number of free and paid apps, respectively, and returns a dataset with only free apps.\n",
    " "
   ]
  },
  {
   "cell_type": "code",
   "execution_count": 24,
   "metadata": {},
   "outputs": [],
   "source": [
    "def free_or_paid(dataset, index_price, string_type=False):\n",
    "    free_app = []\n",
    "    paid_app = []\n",
    "    if string_type:\n",
    "        for row in dataset:\n",
    "            price = row[index_price]\n",
    "            # Convert all strings into uppercase\n",
    "            if price.upper() == 'FREE':\n",
    "                free_app.append(row)\n",
    "            else:\n",
    "                paid_app.append(row)\n",
    "    else:\n",
    "        for row in dataset:\n",
    "            price = float(row[index_price])\n",
    "            if price == 0:\n",
    "                free_app.append(row)\n",
    "            else:\n",
    "                paid_app.append(row)\n",
    "    print('Total number of apps:', len(dataset))\n",
    "    print('Number of Free apps:', len(free_app))\n",
    "    print('Number of Paid apps', len(paid_app))\n",
    "    return free_app"
   ]
  },
  {
   "cell_type": "code",
   "execution_count": 25,
   "metadata": {
    "scrolled": true
   },
   "outputs": [
    {
     "name": "stdout",
     "output_type": "stream",
     "text": [
      "Total number of apps: 6181\n",
      "Number of Free apps: 3220\n",
      "Number of Paid apps 2961\n"
     ]
    }
   ],
   "source": [
    "ios_dataset_free = free_or_paid(ios_dataset_Eng, index_price=4)"
   ]
  },
  {
   "cell_type": "code",
   "execution_count": 26,
   "metadata": {},
   "outputs": [
    {
     "name": "stdout",
     "output_type": "stream",
     "text": [
      "Total number of apps: 9614\n",
      "Number of Free apps: 8863\n",
      "Number of Paid apps 751\n"
     ]
    }
   ],
   "source": [
    "android_dataset_free = free_or_paid(android_dataset_Eng, index_price=6, string_type=True)"
   ]
  },
  {
   "cell_type": "markdown",
   "metadata": {},
   "source": [
    "### 2.4. Summary\n",
    "This is the end of data cleaning. Both the iOS and Android datasets are ready for the analysis.\n",
    "- The iOS dataset now contains 3220 rows.\n",
    "- The Android dataset now contains 8863 rows."
   ]
  },
  {
   "cell_type": "markdown",
   "metadata": {},
   "source": [
    "## 3. Analysing the Dataset\n",
    "\n",
    "The aim of the current project is to determine the types of apps that are more likely to attract users because company's revenue is dependent of the in-app advertising in which the more users the higher the revenue.\n",
    "\n",
    "Considering the budget and risk, the company made a`validation strategy`for an app idea, which includes the below 3 steps:\n",
    "1. Build an Android version of the app, and publish it on Google Play.\n",
    "2. Collect users' feedbacks to see whether the app has potential. If the app receives good responses, we then continue to develop it.\n",
    "3. If the app is profitable after 6 months, we build an iOS version of the app and publish it on the App Store.\n",
    "\n",
    "In this section, we aim to find out on both the App Store and Google Play\n",
    "1. What app categories are the most common.\n",
    "2. What app categories have the highest number of users."
   ]
  },
  {
   "cell_type": "markdown",
   "metadata": {},
   "source": [
    "### 3.1. Most Common App Categories\n",
    "In this section, we attempt to find out what app categories are the most common on both the App Store and Google Play.\n",
    "\n",
    "A function`genre_percentage` will be created to check the `frequency` of each app category, which returns a list that illustrates the name of each app category and its percentage relative to the whole dataset."
   ]
  },
  {
   "cell_type": "code",
   "execution_count": 27,
   "metadata": {},
   "outputs": [],
   "source": [
    "def genre_percentage(dataset, index_to_check):\n",
    "    # Obtain the frequency of each category\n",
    "    genre_freq_dict = {}\n",
    "    for row in dataset:\n",
    "        genre = row[index_to_check]\n",
    "        if genre in genre_freq_dict:\n",
    "            genre_freq_dict[genre] += 1\n",
    "        else:\n",
    "            genre_freq_dict[genre] = 1\n",
    "    \n",
    "    # Convert the frequency of each category into percentages\n",
    "    genre_percentage_dict = {}\n",
    "    total = len(dataset)\n",
    "    for key in genre_freq_dict:\n",
    "        genre_percentage_dict[key] = round((genre_freq_dict[key] / total) * 100, 2)\n",
    "    \n",
    "    # Append the data from the dict to a list and sort the data in descending order\n",
    "    genre_list = []\n",
    "    for key in genre_percentage_dict:\n",
    "        # The dictionary value needs to come before the key, so the sorted() function can be used to sort the list in descending order\n",
    "        value_key = (genre_percentage_dict[key], key)\n",
    "        genre_list.append(value_key)\n",
    "    \n",
    "    sorted_list = sorted(genre_list, reverse=True)\n",
    "\n",
    "    return sorted_list"
   ]
  },
  {
   "cell_type": "markdown",
   "metadata": {},
   "source": [
    "### 3.1.1. Part One: Look into the iOS dataset\n",
    "In the iOS dataset, there is only one column,`prime_genre,`that indicates the category each app belongs to."
   ]
  },
  {
   "cell_type": "code",
   "execution_count": 28,
   "metadata": {
    "scrolled": true
   },
   "outputs": [
    {
     "name": "stdout",
     "output_type": "stream",
     "text": [
      "Games : 58.14 %\n",
      "Entertainment : 7.89 %\n",
      "Photo & Video : 4.97 %\n",
      "Education : 3.66 %\n",
      "Social Networking : 3.29 %\n",
      "Shopping : 2.61 %\n",
      "Utilities : 2.52 %\n",
      "Sports : 2.14 %\n",
      "Music : 2.05 %\n",
      "Health & Fitness : 2.02 %\n",
      "Productivity : 1.74 %\n",
      "Lifestyle : 1.58 %\n",
      "News : 1.34 %\n",
      "Travel : 1.24 %\n",
      "Finance : 1.12 %\n",
      "Weather : 0.87 %\n",
      "Food & Drink : 0.81 %\n",
      "Reference : 0.56 %\n",
      "Business : 0.53 %\n",
      "Book : 0.43 %\n",
      "Navigation : 0.19 %\n",
      "Medical : 0.19 %\n",
      "Catalogs : 0.12 %\n"
     ]
    }
   ],
   "source": [
    "ios_category = genre_percentage(ios_dataset_free, 11)\n",
    "for item in ios_category:\n",
    "    print(item[1], ':', item[0], '%')"
   ]
  },
  {
   "cell_type": "markdown",
   "metadata": {},
   "source": [
    "### Based on the above information:\n",
    "- The top 5 common categories are  \n",
    "`Games(58.14%)`,`Entertainment(7.89%)`,`Photo & Video(4.97%)`,`Education(3.66%)`and`Social Networking(3.29%)`.\n",
    "- This suggests that among the free English apps in the App Store, around 70% of the apps are designed for fun (i.e., games, entertainment, photo & video), while others are designed for practical uses (e.g., education, shopping, utilities, productivity, lifestyle...etc.)."
   ]
  },
  {
   "cell_type": "markdown",
   "metadata": {},
   "source": [
    "### 3.1.2. Part Two: Look into the Android dataset\n",
    "In the Android dataset, there are two columns,`category`and`genres,`that indicate the category each app belongs to. Both columns will be examined to see whether there exists difference."
   ]
  },
  {
   "cell_type": "code",
   "execution_count": 29,
   "metadata": {},
   "outputs": [
    {
     "name": "stdout",
     "output_type": "stream",
     "text": [
      "Number of categories: 33\n",
      "\n",
      "\n",
      "FAMILY : 18.9 %\n",
      "GAME : 9.73 %\n",
      "TOOLS : 8.46 %\n",
      "BUSINESS : 4.59 %\n",
      "LIFESTYLE : 3.9 %\n",
      "PRODUCTIVITY : 3.89 %\n",
      "FINANCE : 3.7 %\n",
      "MEDICAL : 3.53 %\n",
      "SPORTS : 3.4 %\n",
      "PERSONALIZATION : 3.32 %\n",
      "COMMUNICATION : 3.24 %\n",
      "HEALTH_AND_FITNESS : 3.08 %\n",
      "PHOTOGRAPHY : 2.94 %\n",
      "NEWS_AND_MAGAZINES : 2.8 %\n",
      "SOCIAL : 2.66 %\n",
      "TRAVEL_AND_LOCAL : 2.34 %\n",
      "SHOPPING : 2.25 %\n",
      "BOOKS_AND_REFERENCE : 2.14 %\n",
      "DATING : 1.86 %\n",
      "VIDEO_PLAYERS : 1.79 %\n",
      "MAPS_AND_NAVIGATION : 1.4 %\n",
      "FOOD_AND_DRINK : 1.24 %\n",
      "EDUCATION : 1.16 %\n",
      "ENTERTAINMENT : 0.96 %\n",
      "LIBRARIES_AND_DEMO : 0.94 %\n",
      "AUTO_AND_VEHICLES : 0.93 %\n",
      "HOUSE_AND_HOME : 0.82 %\n",
      "WEATHER : 0.8 %\n",
      "EVENTS : 0.71 %\n",
      "PARENTING : 0.65 %\n",
      "ART_AND_DESIGN : 0.64 %\n",
      "COMICS : 0.62 %\n",
      "BEAUTY : 0.6 %\n"
     ]
    }
   ],
   "source": [
    "android_category = genre_percentage(android_dataset_free, 1)\n",
    "print('Number of categories:', len(android_category))\n",
    "print('\\n')\n",
    "for item in android_category:\n",
    "    print(item[1], ':', item[0], '%')"
   ]
  },
  {
   "cell_type": "code",
   "execution_count": 30,
   "metadata": {},
   "outputs": [
    {
     "name": "stdout",
     "output_type": "stream",
     "text": [
      "Number of categories: 114\n",
      "\n",
      "\n",
      "Tools : 8.45 %\n",
      "Entertainment : 6.07 %\n",
      "Education : 5.35 %\n",
      "Business : 4.59 %\n",
      "Productivity : 3.89 %\n",
      "Lifestyle : 3.89 %\n",
      "Finance : 3.7 %\n",
      "Medical : 3.53 %\n",
      "Sports : 3.46 %\n",
      "Personalization : 3.32 %\n",
      "Communication : 3.24 %\n",
      "Action : 3.1 %\n",
      "Health & Fitness : 3.08 %\n",
      "Photography : 2.94 %\n",
      "News & Magazines : 2.8 %\n",
      "Social : 2.66 %\n",
      "Travel & Local : 2.32 %\n",
      "Shopping : 2.25 %\n",
      "Books & Reference : 2.14 %\n",
      "Simulation : 2.04 %\n",
      "Dating : 1.86 %\n",
      "Arcade : 1.85 %\n",
      "Video Players & Editors : 1.77 %\n",
      "Casual : 1.76 %\n",
      "Maps & Navigation : 1.4 %\n",
      "Food & Drink : 1.24 %\n",
      "Puzzle : 1.13 %\n",
      "Racing : 0.99 %\n",
      "Role Playing : 0.94 %\n",
      "Libraries & Demo : 0.94 %\n",
      "Auto & Vehicles : 0.93 %\n",
      "Strategy : 0.9 %\n",
      "House & Home : 0.82 %\n",
      "Weather : 0.8 %\n",
      "Events : 0.71 %\n",
      "Adventure : 0.68 %\n",
      "Comics : 0.61 %\n",
      "Beauty : 0.6 %\n",
      "Art & Design : 0.6 %\n",
      "Parenting : 0.5 %\n",
      "Card : 0.45 %\n",
      "Casino : 0.43 %\n",
      "Trivia : 0.42 %\n",
      "Educational;Education : 0.39 %\n",
      "Board : 0.38 %\n",
      "Educational : 0.37 %\n",
      "Education;Education : 0.34 %\n",
      "Word : 0.26 %\n",
      "Casual;Pretend Play : 0.24 %\n",
      "Music : 0.2 %\n",
      "Racing;Action & Adventure : 0.17 %\n",
      "Puzzle;Brain Games : 0.17 %\n",
      "Entertainment;Music & Video : 0.17 %\n",
      "Casual;Brain Games : 0.14 %\n",
      "Casual;Action & Adventure : 0.14 %\n",
      "Arcade;Action & Adventure : 0.12 %\n",
      "Action;Action & Adventure : 0.1 %\n",
      "Educational;Pretend Play : 0.09 %\n",
      "Simulation;Action & Adventure : 0.08 %\n",
      "Parenting;Education : 0.08 %\n",
      "Entertainment;Brain Games : 0.08 %\n",
      "Board;Brain Games : 0.08 %\n",
      "Parenting;Music & Video : 0.07 %\n",
      "Educational;Brain Games : 0.07 %\n",
      "Casual;Creativity : 0.07 %\n",
      "Art & Design;Creativity : 0.07 %\n",
      "Education;Pretend Play : 0.06 %\n",
      "Role Playing;Pretend Play : 0.05 %\n",
      "Education;Creativity : 0.05 %\n",
      "Role Playing;Action & Adventure : 0.03 %\n",
      "Puzzle;Action & Adventure : 0.03 %\n",
      "Entertainment;Creativity : 0.03 %\n",
      "Entertainment;Action & Adventure : 0.03 %\n",
      "Educational;Creativity : 0.03 %\n",
      "Educational;Action & Adventure : 0.03 %\n",
      "Education;Music & Video : 0.03 %\n",
      "Education;Brain Games : 0.03 %\n",
      "Education;Action & Adventure : 0.03 %\n",
      "Adventure;Action & Adventure : 0.03 %\n",
      "Video Players & Editors;Music & Video : 0.02 %\n",
      "Sports;Action & Adventure : 0.02 %\n",
      "Simulation;Pretend Play : 0.02 %\n",
      "Puzzle;Creativity : 0.02 %\n",
      "Music;Music & Video : 0.02 %\n",
      "Entertainment;Pretend Play : 0.02 %\n",
      "Casual;Education : 0.02 %\n",
      "Board;Action & Adventure : 0.02 %\n",
      "Video Players & Editors;Creativity : 0.01 %\n",
      "Trivia;Education : 0.01 %\n",
      "Travel & Local;Action & Adventure : 0.01 %\n",
      "Tools;Education : 0.01 %\n",
      "Strategy;Education : 0.01 %\n",
      "Strategy;Creativity : 0.01 %\n",
      "Strategy;Action & Adventure : 0.01 %\n",
      "Simulation;Education : 0.01 %\n",
      "Role Playing;Brain Games : 0.01 %\n",
      "Racing;Pretend Play : 0.01 %\n",
      "Puzzle;Education : 0.01 %\n",
      "Parenting;Brain Games : 0.01 %\n",
      "Music & Audio;Music & Video : 0.01 %\n",
      "Lifestyle;Pretend Play : 0.01 %\n",
      "Lifestyle;Education : 0.01 %\n",
      "Health & Fitness;Education : 0.01 %\n",
      "Health & Fitness;Action & Adventure : 0.01 %\n",
      "Entertainment;Education : 0.01 %\n",
      "Communication;Creativity : 0.01 %\n",
      "Comics;Creativity : 0.01 %\n",
      "Casual;Music & Video : 0.01 %\n",
      "Card;Action & Adventure : 0.01 %\n",
      "Books & Reference;Education : 0.01 %\n",
      "Art & Design;Pretend Play : 0.01 %\n",
      "Art & Design;Action & Adventure : 0.01 %\n",
      "Arcade;Pretend Play : 0.01 %\n",
      "Adventure;Education : 0.01 %\n"
     ]
    }
   ],
   "source": [
    "android_genre = genre_percentage(android_dataset_free, 9)\n",
    "print('Number of categories:', len(android_genre))\n",
    "print('\\n')\n",
    "for item in android_genre:\n",
    "    print(item[1], ':', item[0], '%')"
   ]
  },
  {
   "cell_type": "markdown",
   "metadata": {},
   "source": [
    "### Based on the above information:\n",
    "- For the`category`column, the top 5 common categories are `Family(18.90%)`,`Game(9.73%)`,`Tools(8.46%)`,`Business(4.59%)`and`Lifestyle(3.90%)`.\n",
    "    - By searching [Family](https://play.google.com/store/apps/category/FAMILY?hl=en) under the app category on Google Play, it turned out that `Family` means games for kids from 5 years old to 12 years old.\n",
    " \n",
    "  \n",
    "- For the`genres`column, the top 5 common categories are `Tools(8.45%)`,`Entertainment(6.07%)`,`Education(5.35%)`,`Business(4.59%)`and `Productivity(3.89%)`and`Lifestyle(3.89%)`.\n",
    "  \n",
    "  \n",
    "- We can see that the number of categories in the`genres`column (114 categories) is 2.5 times more than that in the`category`column (33 categories). This seems to be a result of adding sub-categories under the main categories in the`genres`column, providing the app with more information. However, because we are looking for a bigger picture, we will work with the`category`column rather than the`genres`.\n",
    "\n",
    "\n",
    "- This suggests that among the free English apps in the Google Play, around 1/3 of the apps are designed for fun (i.e., family and game), while others are for practical purposes (e.g., business, finance and medical...etc.)."
   ]
  },
  {
   "cell_type": "markdown",
   "metadata": {},
   "source": [
    "### 3.1. Summary\n",
    "The result of the analysis suggests that \n",
    "- For the iOS dataset, the majority of the apps are designed for fun.\n",
    "- Whereas for the Android dataset, the combination of the app category is relatively balanced with apps designed for fun as well as those designed for practical purposes."
   ]
  },
  {
   "cell_type": "markdown",
   "metadata": {},
   "source": [
    "### 3.2. Most Popular App Categories with Most Users\n",
    "In this section, we will look for what app categories have got `the highest average number of users` on both the App Store and Google Play.\n",
    "\n",
    "A function`genre_user_avg_counts` will be created to check the popularity of each app category, which returns a list that demonstrates the name of each app category and its average number of user counts."
   ]
  },
  {
   "cell_type": "markdown",
   "metadata": {},
   "source": [
    "### 3.2.1. Part One: Examine the iOS dataset\n",
    "In the iOS dataset, there are two columns that indicate the number of users for each app:\n",
    "1. `rating_count_tot (user rating counts for all version)`\n",
    "2. `ratingcountver (user rating counts for current version)`\n",
    "\n",
    "Here we will only work with the`rating_count_tot`column considering that it contains more users' rating counts."
   ]
  },
  {
   "cell_type": "code",
   "execution_count": 31,
   "metadata": {},
   "outputs": [],
   "source": [
    "def genre_user_counts(genre_list, dataset, index_genre, index_count):\n",
    "    # The idea here is to use a for loop to iterate through the category list from the genre_percentage() function\n",
    "    avg_user_count_list = []\n",
    "    for genre in genre_list:\n",
    "        list_category = genre[1]\n",
    "        user_count = 0\n",
    "        total = 0\n",
    "        for row in dataset:\n",
    "            row_category = row[index_genre]\n",
    "            rating_count = float(row[index_count])\n",
    "            if row_category == list_category:\n",
    "                user_count += rating_count\n",
    "                total += 1\n",
    "        avg_user_count_list.append((round(user_count / total, 2), list_category))\n",
    "    sorted_list = sorted(avg_user_count_list, reverse=True)\n",
    "    return sorted_list        "
   ]
  },
  {
   "cell_type": "code",
   "execution_count": 33,
   "metadata": {
    "scrolled": false
   },
   "outputs": [
    {
     "name": "stdout",
     "output_type": "stream",
     "text": [
      "Navigation : 86090.33\n",
      "Reference : 74942.11\n",
      "Social Networking : 71548.35\n",
      "Music : 57326.53\n",
      "Weather : 52279.89\n",
      "Book : 39758.5\n",
      "Food & Drink : 33333.92\n",
      "Finance : 31467.94\n",
      "Photo & Video : 28441.54\n",
      "Travel : 28243.8\n",
      "Shopping : 26919.69\n",
      "Health & Fitness : 23298.02\n",
      "Sports : 23008.9\n",
      "Games : 22812.92\n",
      "News : 21248.02\n",
      "Productivity : 21028.41\n",
      "Utilities : 18684.46\n",
      "Lifestyle : 16485.76\n",
      "Entertainment : 14029.83\n",
      "Business : 7491.12\n",
      "Education : 7003.98\n",
      "Catalogs : 4004.0\n",
      "Medical : 612.0\n"
     ]
    }
   ],
   "source": [
    "ios_user_counts = genre_user_counts(ios_category, ios_dataset_free, index_genre=11, index_count=5)\n",
    "for row in ios_user_counts:\n",
    "    print(row[1], ':', row[0])"
   ]
  },
  {
   "cell_type": "markdown",
   "metadata": {},
   "source": [
    "### Based on the above information:\n",
    "- The top 5 popular categories are  \n",
    "`Navigation(86,090)`, `Reference(74,942)`, `Social Networking(71,548)`, `Music(57,326)` and `Weather(52,279)`.\n",
    "\n",
    "- This result differs from the analysis for the most common apps where the majority of free English apps in the iOS dataset are designed for fun (e.g., game, entertainment)\n",
    "\n",
    "For the below cell, we will use a nested for loop to look into the `rating_count_tot` column for each app within each top 5 popular category to see whether the average number of users is biased."
   ]
  },
  {
   "cell_type": "code",
   "execution_count": 48,
   "metadata": {},
   "outputs": [
    {
     "name": "stdout",
     "output_type": "stream",
     "text": [
      "Navigation : 86090.33\n",
      "Number of apps: 6\n",
      "Waze - GPS Navigation, Maps & Real-time Traffic : 345046\n",
      "Google Maps - Navigation & Transit : 154911\n",
      "Geocaching® : 12811\n",
      "CoPilot GPS – Car Navigation & Offline Maps : 3582\n",
      "ImmobilienScout24: Real Estate Search in Germany : 187\n",
      "\n",
      "\n",
      "Reference : 74942.11\n",
      "Number of apps: 18\n",
      "Bible : 985920\n",
      "Dictionary.com Dictionary & Thesaurus : 200047\n",
      "Dictionary.com Dictionary & Thesaurus for iPad : 54175\n",
      "Google Translate : 26786\n",
      "Muslim Pro: Ramadan 2017 Prayer Times, Azan, Quran : 18418\n",
      "\n",
      "\n",
      "Social Networking : 71548.35\n",
      "Number of apps: 106\n",
      "Facebook : 2974676\n",
      "Pinterest : 1061624\n",
      "Skype for iPhone : 373519\n",
      "Messenger : 351466\n",
      "Tumblr : 334293\n",
      "\n",
      "\n",
      "Music : 57326.53\n",
      "Number of apps: 66\n",
      "Pandora - Music & Radio : 1126879\n",
      "Spotify Music : 878563\n",
      "Shazam - Discover music, artists, videos & lyrics : 402925\n",
      "iHeartRadio – Free Music & Radio Stations : 293228\n",
      "SoundCloud - Music & Audio : 135744\n",
      "\n",
      "\n",
      "Weather : 52279.89\n",
      "Number of apps: 28\n",
      "The Weather Channel: Forecast, Radar & Alerts : 495626\n",
      "The Weather Channel App for iPad – best local forecast, radar map, and storm tracking : 208648\n",
      "WeatherBug - Local Weather, Radar, Maps, Alerts : 188583\n",
      "MyRadar NOAA Weather Radar Forecast : 150158\n",
      "AccuWeather - Weather for Life : 144214\n",
      "\n",
      "\n",
      "Book : 39758.5\n",
      "Number of apps: 14\n",
      "Kindle – Read eBooks, Magazines & Textbooks : 252076\n",
      "Audible – audio books, original series & podcasts : 105274\n",
      "Color Therapy Adult Coloring Book for Adults : 84062\n",
      "OverDrive – Library eBooks and Audiobooks : 65450\n",
      "HOOKED - Chat Stories : 47829\n",
      "\n",
      "\n"
     ]
    }
   ],
   "source": [
    "# Iterate through each genre\n",
    "for genre in ios_user_counts[:6]:\n",
    "    genre_name = genre[1]\n",
    "    print(genre[1], ':', genre[0])\n",
    "    app_list = []\n",
    "    total = 0\n",
    "    # Iterate through each row of the dataset and see if the category matches the genre\n",
    "    for row in ios_dataset_free:\n",
    "        category = row[11]\n",
    "        rating_counts = int(row[5])\n",
    "        app_name = row[1]\n",
    "        if genre_name == category:\n",
    "            total += 1\n",
    "            app_list.append((rating_counts, app_name))\n",
    "    sorted_list = sorted(app_list, reverse=True)\n",
    "    print('Number of apps:', total)\n",
    "    for item in sorted_list[:5]:\n",
    "        print(item[1], ':', item[0])\n",
    "    print('\\n')"
   ]
  },
  {
   "cell_type": "markdown",
   "metadata": {},
   "source": [
    "### Based on the above information:\n",
    "- For the category`Navigation(86,090)`, the result suggests that the average number was heavily affected by the below two apps\n",
    "    1. Waze(345,046)\n",
    "    2. Google Maps(154,911)\n",
    "              \n",
    "              \n",
    "- For the category`Reference(74,942)`, the result shows that the average number was skewed up due to the below two apps\n",
    "    1. Bible(985,920)\n",
    "    2. Dictionary.com(200,047)\n",
    "\n",
    "\n",
    "- The same pattern applies to the category`Social Networking`,`Music`,`Weather`as well as`Book`. \n",
    "\n",
    "\n",
    "For now, it could be considered that\n",
    "1. The`Navigation`category might require higher budget for developing an app.  \n",
    "2. The market in both the`Social Networking`,`Music`categories could be saturated,\n",
    "3. The`Weather`category might not produce much profit from the in-app advertising considering that users would close the app\n",
    "\n",
    "The category`Book` could be a potential choice. However, further information regarding to the company's preference is needed to leverage the result of the analysis and make a recommendation."
   ]
  },
  {
   "attachments": {},
   "cell_type": "markdown",
   "metadata": {},
   "source": [
    "### 3.2.2. Part Two: Examine the Android dataset\n",
    "In the Android dataset, there are two columns that indicate the number of users for each app:\n",
    "1. `Review (the number of review)`\n",
    "2. `Installs (the number of of times the app has been installed)`"
   ]
  },
  {
   "cell_type": "markdown",
   "metadata": {},
   "source": [
    "### 3.2.2.1. Check the average number of user by the column`Review`\n",
    "This is similar to the iOS dataset where `users' rating counts`was used for the analysis."
   ]
  },
  {
   "cell_type": "code",
   "execution_count": 50,
   "metadata": {},
   "outputs": [
    {
     "name": "stdout",
     "output_type": "stream",
     "text": [
      "COMMUNICATION : 995608.46\n",
      "SOCIAL : 965830.99\n",
      "GAME : 683523.84\n",
      "VIDEO_PLAYERS : 425350.08\n",
      "PHOTOGRAPHY : 404081.38\n",
      "TOOLS : 305732.9\n",
      "ENTERTAINMENT : 301752.25\n",
      "SHOPPING : 223887.35\n",
      "PERSONALIZATION : 181122.32\n",
      "WEATHER : 171250.77\n",
      "PRODUCTIVITY : 160634.54\n",
      "MAPS_AND_NAVIGATION : 142860.05\n",
      "TRAVEL_AND_LOCAL : 129484.43\n",
      "SPORTS : 116938.61\n",
      "FAMILY : 113210.55\n",
      "NEWS_AND_MAGAZINES : 93088.03\n",
      "BOOKS_AND_REFERENCE : 87995.07\n",
      "HEALTH_AND_FITNESS : 78094.97\n",
      "FOOD_AND_DRINK : 57478.79\n",
      "EDUCATION : 56293.1\n",
      "COMICS : 42585.62\n",
      "FINANCE : 38535.9\n",
      "LIFESTYLE : 33921.82\n",
      "HOUSE_AND_HOME : 26435.47\n",
      "ART_AND_DESIGN : 24699.42\n",
      "BUSINESS : 24239.73\n",
      "DATING : 21953.27\n",
      "PARENTING : 16378.71\n",
      "AUTO_AND_VEHICLES : 14140.28\n",
      "LIBRARIES_AND_DEMO : 10925.81\n",
      "BEAUTY : 7476.23\n",
      "MEDICAL : 3730.15\n",
      "EVENTS : 2555.84\n"
     ]
    }
   ],
   "source": [
    "android_user_counts = genre_user_counts(android_category, android_dataset_free, index_genre=1, index_count=3)\n",
    "for row in android_user_counts:\n",
    "    print(row[1], ':', row[0])"
   ]
  },
  {
   "cell_type": "code",
   "execution_count": 52,
   "metadata": {},
   "outputs": [
    {
     "name": "stdout",
     "output_type": "stream",
     "text": [
      "COMMUNICATION : 995608.46\n",
      "Number of apps: 287\n",
      "WhatsApp Messenger : 69119316\n",
      "Messenger – Text and Video Chat for Free : 56646578\n",
      "UC Browser - Fast Download Private & Secure : 17714850\n",
      "BBM - Free Calls & Messages : 12843436\n",
      "Viber Messenger : 11335481\n",
      "\n",
      "\n",
      "SOCIAL : 965830.99\n",
      "Number of apps: 236\n",
      "Facebook : 78158306\n",
      "Instagram : 66577446\n",
      "Snapchat : 17015352\n",
      "Facebook Lite : 8606259\n",
      "VK : 5793284\n",
      "\n",
      "\n",
      "GAME : 683523.84\n",
      "Number of apps: 862\n",
      "Clash of Clans : 44893888\n",
      "Subway Surfers : 27725352\n",
      "Clash Royale : 23136735\n",
      "Candy Crush Saga : 22430188\n",
      "My Talking Tom : 14892469\n",
      "\n",
      "\n",
      "VIDEO_PLAYERS : 425350.08\n",
      "Number of apps: 159\n",
      "YouTube : 25655305\n",
      "VivaVideo - Video Editor & Photo Movie : 9879473\n",
      "MX Player : 6474672\n",
      "VideoShow-Video Editor, Video Maker, Beauty Camera : 4016834\n",
      "DU Recorder – Screen Recorder, Video Editor, Live : 2588730\n",
      "\n",
      "\n",
      "PHOTOGRAPHY : 404081.38\n",
      "Number of apps: 261\n",
      "Google Photos : 10859051\n",
      "PicsArt Photo Studio: Collage Maker & Pic Editor : 7594559\n",
      "PhotoGrid: Video & Pic Collage Maker, Photo Editor : 7529865\n",
      "Retrica : 6120977\n",
      "B612 - Beauty & Filter Camera : 5282578\n",
      "\n",
      "\n",
      "TOOLS : 305732.9\n",
      "Number of apps: 750\n",
      "Clean Master- Space Cleaner & Antivirus : 42916526\n",
      "Security Master - Antivirus, VPN, AppLock, Booster : 24900999\n",
      "360 Security - Free Antivirus, Booster, Cleaner : 16771865\n",
      "DU Battery Saver - Battery Charger & Battery Life : 13479633\n",
      "Cache Cleaner-DU Speed Booster (booster & cleaner) : 12759815\n",
      "\n",
      "\n"
     ]
    }
   ],
   "source": [
    "for genre in android_user_counts[:6]:\n",
    "    genre_name = genre[1]\n",
    "    print(genre[1], ':', genre[0])\n",
    "    app_list = []\n",
    "    total = 0\n",
    "    # Iterate through each row of the dataset and see if the category matches the genre\n",
    "    for row in android_dataset_free:\n",
    "        category = row[1]\n",
    "        rating_counts = int(row[3])\n",
    "        app_name = row[0]\n",
    "        if genre_name == category:\n",
    "            total += 1\n",
    "            app_list.append((rating_counts, app_name))\n",
    "    sorted_list = sorted(app_list, reverse=True)\n",
    "    print('Number of apps:', total)\n",
    "    for item in sorted_list[:5]:\n",
    "        print(item[1], ':', item[0])\n",
    "    print('\\n')"
   ]
  },
  {
   "cell_type": "markdown",
   "metadata": {},
   "source": [
    "### Based on the above information:\n",
    "- We can tell that, the average number of users is mainly biased by the few apps, which is similar to the iOS dataset."
   ]
  },
  {
   "cell_type": "markdown",
   "metadata": {},
   "source": [
    "### 3.2.2.2. Check the average number of user by the column`Installs`\n",
    "Note that \n",
    "- Since the data in the column`Installs` is of string type that contains symbols such as ',' and '+'. These symbols need to be removed before the analysis.\n",
    "- The data such as '10,000+', '50,000,000+' are rough indicators suggesting the number of users. Here we will firstly treat '10,000+' as '10,000' and '50,000,000+' as '50,000,000' and so on to get a picture of how the dataset look like."
   ]
  },
  {
   "cell_type": "code",
   "execution_count": 59,
   "metadata": {},
   "outputs": [
    {
     "name": "stdout",
     "output_type": "stream",
     "text": [
      "['Photo Editor & Candy Camera & Grid & ScrapBook', 'ART_AND_DESIGN', '4.1', '159', '19M', '10000', 'Free', '0', 'Everyone', 'Art & Design', 'January 7, 2018', '1.0.0', '4.0.3 and up']\n"
     ]
    }
   ],
   "source": [
    "# The symbols to remove from the data in the install column\n",
    "replace_list = [',', '+']\n",
    "android_dataset_install = []\n",
    "for row in android_dataset_free:\n",
    "    for symbol in replace_list:\n",
    "        row[5] = row[5].replace(symbol, '')\n",
    "    android_dataset_install.append(row)\n",
    "print(android_dataset_install[0])    "
   ]
  },
  {
   "cell_type": "code",
   "execution_count": 61,
   "metadata": {},
   "outputs": [
    {
     "name": "stdout",
     "output_type": "stream",
     "text": [
      "COMMUNICATION : 38456119.17\n",
      "VIDEO_PLAYERS : 24727872.45\n",
      "SOCIAL : 23253652.13\n",
      "PHOTOGRAPHY : 17840110.4\n",
      "PRODUCTIVITY : 16787331.34\n",
      "GAME : 15588015.6\n",
      "TRAVEL_AND_LOCAL : 13984077.71\n",
      "ENTERTAINMENT : 11640705.88\n",
      "TOOLS : 10801391.3\n",
      "NEWS_AND_MAGAZINES : 9549178.47\n",
      "BOOKS_AND_REFERENCE : 8767811.89\n",
      "SHOPPING : 7036877.31\n",
      "PERSONALIZATION : 5201482.61\n",
      "WEATHER : 5074486.2\n",
      "HEALTH_AND_FITNESS : 4188821.99\n",
      "MAPS_AND_NAVIGATION : 4056941.77\n",
      "FAMILY : 3697848.17\n",
      "SPORTS : 3638640.14\n",
      "ART_AND_DESIGN : 1986335.09\n",
      "FOOD_AND_DRINK : 1924897.74\n",
      "EDUCATION : 1833495.15\n",
      "BUSINESS : 1712290.15\n",
      "LIFESTYLE : 1437816.27\n",
      "FINANCE : 1387692.48\n",
      "HOUSE_AND_HOME : 1331540.56\n",
      "DATING : 854028.83\n",
      "COMICS : 817657.27\n",
      "AUTO_AND_VEHICLES : 647317.82\n",
      "LIBRARIES_AND_DEMO : 638503.73\n",
      "PARENTING : 542603.62\n",
      "BEAUTY : 513151.89\n",
      "EVENTS : 253542.22\n",
      "MEDICAL : 120550.62\n"
     ]
    }
   ],
   "source": [
    "android_install_counts = genre_user_counts(android_category, android_dataset_install, index_genre=1, index_count=5)\n",
    "for row in android_install_counts:\n",
    "    print(row[1], ':', row[0])"
   ]
  },
  {
   "cell_type": "code",
   "execution_count": 73,
   "metadata": {},
   "outputs": [
    {
     "name": "stdout",
     "output_type": "stream",
     "text": [
      "COMMUNICATION : 3846\n",
      "Number of apps: 287\n",
      "WhatsApp Messenger : 100000\n",
      "Skype - free IM & video calls : 100000\n",
      "Messenger – Text and Video Chat for Free : 100000\n",
      "Hangouts : 100000\n",
      "Google Chrome: Fast & Secure : 100000\n",
      "Gmail : 100000\n",
      "imo free video calls and chat : 50000\n",
      "Viber Messenger : 50000\n",
      "UC Browser - Fast Download Private & Secure : 50000\n",
      "LINE: Free Calls & Messages : 50000\n",
      "Google Duo - High Quality Video Calls : 50000\n",
      "imo beta free calls and text : 10000\n",
      "Yahoo Mail – Stay Organized : 10000\n",
      "Who : 10000\n",
      "WeChat : 10000\n",
      "\n",
      "\n",
      "VIDEO_PLAYERS : 2473\n",
      "Number of apps: 159\n",
      "YouTube : 100000\n",
      "Google Play Movies & TV : 100000\n",
      "MX Player : 50000\n",
      "VivaVideo - Video Editor & Photo Movie : 10000\n",
      "VideoShow-Video Editor, Video Maker, Beauty Camera : 10000\n",
      "VLC for Android : 10000\n",
      "Motorola Gallery : 10000\n",
      "Motorola FM Radio : 10000\n",
      "Dubsmash : 10000\n",
      "Vote for : 5000\n",
      "Vigo Video : 5000\n",
      "VMate : 5000\n",
      "Samsung Video Library : 5000\n",
      "Ringdroid : 5000\n",
      "MiniMovie - Free Video and Slideshow Editor : 5000\n",
      "\n",
      "\n",
      "SOCIAL : 2325\n",
      "Number of apps: 236\n",
      "Instagram : 100000\n",
      "Google+ : 100000\n",
      "Facebook : 100000\n",
      "Snapchat : 50000\n",
      "Facebook Lite : 50000\n",
      "VK : 10000\n",
      "Tumblr : 10000\n",
      "Tik Tok - including musical.ly : 10000\n",
      "Tango - Live Video Broadcast : 10000\n",
      "Pinterest : 10000\n",
      "LinkedIn : 10000\n",
      "Badoo - Free Chat & Dating App : 10000\n",
      "BIGO LIVE - Live Stream : 10000\n",
      "ooVoo Video Calls, Messaging & Stories : 5000\n",
      "Zello PTT Walkie Talkie : 5000\n",
      "\n",
      "\n",
      "PHOTOGRAPHY : 1784\n",
      "Number of apps: 261\n",
      "Google Photos : 100000\n",
      "Z Camera - Photo Editor, Beauty Selfie, Collage : 10000\n",
      "YouCam Perfect - Selfie Photo Editor : 10000\n",
      "YouCam Makeup - Magic Selfie Makeovers : 10000\n",
      "Sweet Selfie - selfie camera, beauty cam, photo edit : 10000\n",
      "S Photo Editor - Collage Maker , Photo Collage : 10000\n",
      "Retrica : 10000\n",
      "PicsArt Photo Studio: Collage Maker & Pic Editor : 10000\n",
      "PhotoGrid: Video & Pic Collage Maker, Photo Editor : 10000\n",
      "Photo Editor Pro : 10000\n",
      "Photo Editor Collage Maker Pro : 10000\n",
      "Photo Collage Editor : 10000\n",
      "LINE Camera - Photo editor : 10000\n",
      "Cymera Camera- Photo Editor, Filter,Collage,Layout : 10000\n",
      "Candy Camera - selfie, beauty camera, photo editor : 10000\n",
      "\n",
      "\n",
      "PRODUCTIVITY : 1679\n",
      "Number of apps: 345\n",
      "Google Drive : 100000\n",
      "Microsoft Word : 50000\n",
      "Google Calendar : 50000\n",
      "Dropbox : 50000\n",
      "Cloud Print : 50000\n",
      "WPS Office - Word, Docs, PDF, Note, Slide & Sheet : 10000\n",
      "SwiftKey Keyboard : 10000\n",
      "Samsung Notes : 10000\n",
      "Microsoft PowerPoint : 10000\n",
      "Microsoft Outlook : 10000\n",
      "Microsoft OneNote : 10000\n",
      "Microsoft OneDrive : 10000\n",
      "Microsoft Excel : 10000\n",
      "Google Slides : 10000\n",
      "Google Sheets : 10000\n",
      "\n",
      "\n",
      "GAME : 1559\n",
      "Number of apps: 862\n",
      "Subway Surfers : 100000\n",
      "Temple Run 2 : 50000\n",
      "Pou : 50000\n",
      "My Talking Tom : 50000\n",
      "Candy Crush Saga : 50000\n",
      "slither.io : 10000\n",
      "Zombie Tsunami : 10000\n",
      "Yes day : 10000\n",
      "Vector : 10000\n",
      "Trivia Crack : 10000\n",
      "Traffic Racer : 10000\n",
      "Temple Run : 10000\n",
      "Talking Tom Gold Run : 10000\n",
      "Super Mario Run : 10000\n",
      "Sonic Dash : 10000\n",
      "\n",
      "\n"
     ]
    }
   ],
   "source": [
    "for genre in android_install_counts[:6]:\n",
    "    genre_name = genre[1]\n",
    "    print(genre[1], ':', round(genre[0] / 10000))\n",
    "    app_list = []\n",
    "    total = 0\n",
    "    # Iterate through each row of the dataset and see if the category matches the genre\n",
    "    for row in android_dataset_install:\n",
    "        category = row[1]\n",
    "        install_counts = int(row[5])\n",
    "        app_name = row[0]\n",
    "        if genre_name == category:\n",
    "            total += 1\n",
    "            app_list.append((install_counts, app_name))\n",
    "    sorted_list = sorted(app_list, reverse=True)\n",
    "    print('Number of apps:', total)\n",
    "    for item in sorted_list[:15]:\n",
    "        print(item[1], ':', round(item[0] / 10000))\n",
    "    print('\\n')"
   ]
  },
  {
   "cell_type": "markdown",
   "metadata": {},
   "source": [
    "### Based on the above information:\n",
    "- The data in the`Installs`column only provides a rough picture of the popular apps under each common category.\n",
    "\n",
    "Again, additional information regarding to the company's preference is required to leverage the result of the analysis and make a recommendation."
   ]
  },
  {
   "cell_type": "markdown",
   "metadata": {},
   "source": [
    "## 4. Conclusion\n",
    "\n",
    "In this project, we cleaned and analysed the iOS dataset and the Android dataset with the goal of making a suggestion on what type of app the app development team can choose to build that can be profitable on both the App Store and Google Play.\n",
    "\n",
    "We found that in terms of the most common category, apps for fun such as`game, entertainment`would be the first choice on both markets. Whereas in terms of the most users, considering the undecided budget, preference and direction of the company,`book`could be a choice with potential.\n"
   ]
  },
  {
   "cell_type": "code",
   "execution_count": null,
   "metadata": {},
   "outputs": [],
   "source": []
  }
 ],
 "metadata": {
  "kernelspec": {
   "display_name": "Python 3",
   "language": "python",
   "name": "python3"
  },
  "language_info": {
   "codemirror_mode": {
    "name": "ipython",
    "version": 3
   },
   "file_extension": ".py",
   "mimetype": "text/x-python",
   "name": "python",
   "nbconvert_exporter": "python",
   "pygments_lexer": "ipython3",
   "version": "3.8.2"
  }
 },
 "nbformat": 4,
 "nbformat_minor": 2
}
